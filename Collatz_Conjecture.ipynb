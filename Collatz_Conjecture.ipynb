{
  "nbformat": 4,
  "nbformat_minor": 0,
  "metadata": {
    "colab": {
      "name": "Collatz_Conjecture.ipynb",
      "provenance": [],
      "collapsed_sections": [],
      "authorship_tag": "ABX9TyOw1Rbc0xldJbHVgBXiNFnj",
      "include_colab_link": true
    },
    "kernelspec": {
      "name": "python3",
      "display_name": "Python 3"
    }
  },
  "cells": [
    {
      "cell_type": "markdown",
      "metadata": {
        "id": "view-in-github",
        "colab_type": "text"
      },
      "source": [
        "<a href=\"https://colab.research.google.com/github/ebhayden/Math152/blob/main/Collatz_Conjecture.ipynb\" target=\"_parent\"><img src=\"https://colab.research.google.com/assets/colab-badge.svg\" alt=\"Open In Colab\"/></a>"
      ]
    },
    {
      "cell_type": "code",
      "metadata": {
        "id": "LB0GS9OXcw2k"
      },
      "source": [
        "import math\n",
        "import matplotlib.pyplot as plt"
      ],
      "execution_count": 6,
      "outputs": []
    },
    {
      "cell_type": "code",
      "metadata": {
        "id": "efNd_IkGZzRg"
      },
      "source": [
        "def collatz_steps(n,printit): \n",
        "\n",
        "  '''\n",
        "  \n",
        "  Returns the number of steps it takes for the Collatz\n",
        "  map to reach the limit cycle.\n",
        "  Prints this number if printit == true.\n",
        "\n",
        "  args: integer n, boolean printit\n",
        "\n",
        "  return: number of steps it takes to reach the limit cycle\n",
        "\n",
        "  '''   \n",
        "  steps = 0                     \n",
        "  while n != 4:                  \n",
        "    steps += 1\n",
        "    if n%2 == 0:\n",
        "      n = n/2\n",
        "    else:  \n",
        "      n = 3*n +1\n",
        "  if printit:\n",
        "    print(\"It took {} steps to reach our limit cycle\".format(steps))\n",
        "  return steps  "
      ],
      "execution_count": 2,
      "outputs": []
    },
    {
      "cell_type": "code",
      "metadata": {
        "id": "0yMa0zHYE1-i"
      },
      "source": [
        "def collatz_plot(n):\n",
        "  '''\n",
        "  \n",
        "  This function creates a scatter plot of the bahavior of the Collatz map \n",
        "  applied to an integer n.\n",
        "\n",
        "  args: integer n\n",
        "\n",
        "  return: scatter plot\n",
        "\n",
        "  '''\n",
        "  steps = 0\n",
        "  nlist = list()\n",
        "  while n != 4:\n",
        "    nlist.append(n)\n",
        "    steps += 1\n",
        "    if n%2 == 0:\n",
        "      n = n/2\n",
        "    else:  \n",
        "      n = 3*n +1\n",
        "  allsteps = range(steps)      \n",
        "  plt.scatter(allsteps,nlist)    \n",
        "  plt.show()  "
      ],
      "execution_count": 1,
      "outputs": []
    },
    {
      "cell_type": "code",
      "metadata": {
        "id": "wYFAsogok4eo"
      },
      "source": [
        "def collatz_show(bound):\n",
        "\n",
        "  '''\n",
        "\n",
        "  This function creates a bar graph of the time it takes for each integer up to \n",
        "  n to reach the limit cycle under the Collatz map\n",
        "\n",
        "  args: integer n\n",
        "\n",
        "  return: bar plot of return times in [1,n-1]\n",
        "\n",
        "  '''\n",
        "\n",
        "  stepslist = list()\n",
        "  for n in range(bound):\n",
        "    stepslist.append(collatz_steps(n+1,0))\n",
        "  plt.bar(range(bound),stepslist) \n",
        "  plt.show() \n",
        "  "
      ],
      "execution_count": 3,
      "outputs": []
    },
    {
      "cell_type": "code",
      "metadata": {
        "colab": {
          "base_uri": "https://localhost:8080/"
        },
        "id": "uHlswZFgE9ER",
        "outputId": "87de8e4d-1398-474a-a411-572ea04683b0"
      },
      "source": [
        "collatz_steps(500,1)"
      ],
      "execution_count": 4,
      "outputs": [
        {
          "output_type": "stream",
          "text": [
            "It took 108 steps to reach our limit cycle\n"
          ],
          "name": "stdout"
        },
        {
          "output_type": "execute_result",
          "data": {
            "text/plain": [
              "108"
            ]
          },
          "metadata": {
            "tags": []
          },
          "execution_count": 4
        }
      ]
    },
    {
      "cell_type": "code",
      "metadata": {
        "colab": {
          "base_uri": "https://localhost:8080/",
          "height": 265
        },
        "id": "OdMEo9LTE8v0",
        "outputId": "75e431bc-058e-4a96-99f3-2b69c8591f1b"
      },
      "source": [
        "collatz_plot(500)"
      ],
      "execution_count": 11,
      "outputs": [
        {
          "output_type": "display_data",
          "data": {
            "image/png": "[encoded data removed]",
            "text/plain": [
              "<Figure size 432x288 with 1 Axes>"
            ]
          },
          "metadata": {
            "tags": [],
            "needs_background": "light"
          }
        }
      ]
    },
    {
      "cell_type": "code",
      "metadata": {
        "colab": {
          "base_uri": "https://localhost:8080/",
          "height": 265
        },
        "id": "PaEy_iojZ-if",
        "outputId": "3287d0f3-a3e5-4188-db74-2b1f57f77f37"
      },
      "source": [
        "collatz_show(500)"
      ],
      "execution_count": 8,
      "outputs": [
        {
          "output_type": "display_data",
          "data": {
            "image/png": "[encoded data removed]",
            "text/plain": [
              "<Figure size 432x288 with 1 Axes>"
            ]
          },
          "metadata": {
            "tags": [],
            "needs_background": "light"
          }
        }
      ]
    }
  ]
}